{
 "cells": [
  {
   "cell_type": "code",
   "execution_count": null,
   "metadata": {
    "collapsed": false
   },
   "outputs": [],
   "source": [
    "#to insert below"
   ]
  },
  {
   "cell_type": "code",
   "execution_count": 18,
   "metadata": {
    "collapsed": false
   },
   "outputs": [
    {
     "data": {
      "text/plain": [
       "<matplotlib.text.Text at 0x9254128>"
      ]
     },
     "execution_count": 18,
     "metadata": {},
     "output_type": "execute_result"
    },
    {
     "data": {
      "image/png": "[encoded data removed]",
      "text/plain": [
       "<matplotlib.figure.Figure at 0x919a358>"
      ]
     },
     "metadata": {},
     "output_type": "display_data"
    }
   ],
   "source": [
    "#seeing lines\n",
    "import matplotlib.pyplot as plt\n",
    "\n",
    "plt.axvline(x=0.05, linewidth=2, color='r')\n",
    "plt.axvline(x=0.1, linewidth=2, color='r')\n",
    "plt.axvline(x=0.14, linewidth=2, color='r')\n",
    "plt.axvline(x=0.6, linewidth=2, color='r')\n",
    "plt.axvline(x=1, linewidth=2, color='r')\n",
    "\n",
    "#labeling the lines\n",
    "plt.text (.02, .3, 'Hubble', rotation=90)\n",
    "plt.text (.07, .3, 'JWST', rotation=90)\n",
    "plt.text (.11, .3, 'APO SPIcam', rotation=90)\n",
    "plt.text (.57, .3, 'Keck', rotation=90)\n",
    "plt.text (.97, .3, 'VLA', rotation=90)"
   ]
  },
  {
   "cell_type": "code",
   "execution_count": null,
   "metadata": {
    "collapsed": true
   },
   "outputs": [],
   "source": []
  }
 ],
 "metadata": {
  "kernelspec": {
   "display_name": "Python 3",
   "language": "python",
   "name": "python3"
  },
  "language_info": {
   "codemirror_mode": {
    "name": "ipython",
    "version": 3
   },
   "file_extension": ".py",
   "mimetype": "text/x-python",
   "name": "python",
   "nbconvert_exporter": "python",
   "pygments_lexer": "ipython3",
   "version": "3.5.1"
  }
 },
 "nbformat": 4,
 "nbformat_minor": 0
}
